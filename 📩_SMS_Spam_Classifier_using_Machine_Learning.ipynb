{
  "nbformat": 4,
  "nbformat_minor": 0,
  "metadata": {
    "colab": {
      "provenance": [],
      "authorship_tag": "ABX9TyOzvyh7HalXB7bEaPa3ehSU",
      "include_colab_link": true
    },
    "kernelspec": {
      "name": "python3",
      "display_name": "Python 3"
    },
    "language_info": {
      "name": "python"
    }
  },
  "cells": [
    {
      "cell_type": "markdown",
      "metadata": {
        "id": "view-in-github",
        "colab_type": "text"
      },
      "source": [
        "<a href=\"https://colab.research.google.com/github/sriyabarla/-_SMS_Spam_Classifier_using_Machine_Learning.ipynb/blob/main/%F0%9F%93%A9_SMS_Spam_Classifier_using_Machine_Learning.ipynb\" target=\"_parent\"><img src=\"https://colab.research.google.com/assets/colab-badge.svg\" alt=\"Open In Colab\"/></a>"
      ]
    },
    {
      "cell_type": "code",
      "execution_count": 1,
      "metadata": {
        "colab": {
          "base_uri": "https://localhost:8080/"
        },
        "id": "rXxf0MMqM97p",
        "outputId": "7114db65-9781-43e5-d566-0fceb6cb358d"
      },
      "outputs": [
        {
          "output_type": "stream",
          "name": "stdout",
          "text": [
            "✅ Accuracy: 0.0\n",
            "📩 Message: You have won a lottery, claim now!\n",
            "🔎 Prediction: Spam\n"
          ]
        }
      ],
      "source": [
        "# Day 19: SMS Spam Classifier 📩\n",
        "# -----------------------------------------\n",
        "\n",
        "# 1️⃣ Import libraries\n",
        "import pandas as pd\n",
        "from sklearn.model_selection import train_test_split\n",
        "from sklearn.feature_extraction.text import CountVectorizer\n",
        "from sklearn.naive_bayes import MultinomialNB\n",
        "from sklearn.metrics import accuracy_score\n",
        "\n",
        "# 2️⃣ Mini sample dataset (you can expand later)\n",
        "data = {\n",
        "    \"label\": [\"ham\", \"spam\", \"ham\", \"spam\", \"ham\"],\n",
        "    \"message\": [\n",
        "        \"Hey, are we still meeting tomorrow?\",\n",
        "        \"Congratulations! You've won $1000 cash prize. Call now!\",\n",
        "        \"I'll call you when I reach home.\",\n",
        "        \"You have been selected for a free vacation. Click the link!\",\n",
        "        \"Can you send me the notes from class?\"\n",
        "    ]\n",
        "}\n",
        "\n",
        "df = pd.DataFrame(data)\n",
        "\n",
        "# 3️ Convert labels to numbers (ham=0, spam=1)\n",
        "df[\"label_num\"] = df[\"label\"].map({\"ham\":0, \"spam\":1})\n",
        "\n",
        "# 4️ Split dataset\n",
        "X_train, X_test, y_train, y_test = train_test_split(df[\"message\"], df[\"label_num\"], test_size=0.3, random_state=42)\n",
        "\n",
        "# 5️ Convert text to features\n",
        "vectorizer = CountVectorizer()\n",
        "X_train_vec = vectorizer.fit_transform(X_train)\n",
        "X_test_vec = vectorizer.transform(X_test)\n",
        "\n",
        "# 6️ Train model\n",
        "model = MultinomialNB()\n",
        "model.fit(X_train_vec, y_train)\n",
        "\n",
        "# 7️ Test model\n",
        "y_pred = model.predict(X_test_vec)\n",
        "\n",
        "print(\" Accuracy:\", accuracy_score(y_test, y_pred))\n",
        "\n",
        "# 8️ Try a custom message\n",
        "sample = [\"You have won a lottery, claim now!\"]\n",
        "sample_vec = vectorizer.transform(sample)\n",
        "print(\" Message:\", sample[0])\n",
        "print(\"🔎 Prediction:\", \"Spam\" if model.predict(sample_vec)[0]==1 else \"Ham\")\n"
      ]
    }
  ]
}